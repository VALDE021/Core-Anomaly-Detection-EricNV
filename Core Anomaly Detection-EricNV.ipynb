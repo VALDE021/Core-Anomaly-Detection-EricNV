{
 "cells": [
  {
   "cell_type": "markdown",
   "id": "bf63b8b0-0746-4bc3-8ab3-1260a2f444eb",
   "metadata": {},
   "source": [
    "# <u><center>Anomaly Detection (Core)\n",
    "* Authored by: Eric N. Valdez\n",
    "* Date: 3/9/2024"
   ]
  },
  {
   "cell_type": "markdown",
   "id": "7601d456-0669-4210-8827-cc0bb864b3c4",
   "metadata": {},
   "source": [
    "# `Task` \n",
    "* In this assignment, you will use anomaly detection techniques to detect credit card fraud using this modified [dataset](https://drive.google.com/file/d/18FdD9FzthHNQiYkAsfGS9YDP7EAfDgzp/view) originally from [Kaggle](https://www.kaggle.com/datasets/mlg-ulb/creditcardfraud). Each row represents one credit card transaction. This dataset has anonymized features, except for the amount of the transaction.\n",
    "* Your stake holder reports that they have found that about 0.4% of transactions are fraudulent, and 99.6% are valid.\n",
    "* Your task will be to locate anomalous transactions in this data using KMeans and Isolation Forest models."
   ]
  },
  {
   "cell_type": "markdown",
   "id": "cf293d1f-dd47-4415-98c9-b4913cb216aa",
   "metadata": {},
   "source": [
    "# `Imports`"
   ]
  },
  {
   "cell_type": "code",
   "execution_count": 14,
   "id": "f64c27e4-1d53-450a-b0ab-052e3867e090",
   "metadata": {},
   "outputs": [],
   "source": [
    "# Imports\n",
    "import pandas as pd\n",
    "import matplotlib.pyplot as plt\n",
    "import seaborn as sns\n",
    "import numpy as np\n",
    "\n",
    "# Preprocessing \n",
    "from sklearn.preprocessing import StandardScaler\n",
    "from sklearn.cluster import KMeans\n",
    "from sklearn.metrics import silhouette_score\n",
    "from sklearn.ensemble import IsolationForest \n",
    "from sklearn import set_config\n",
    "from sklearn.datasets import make_blobs\n",
    "\n",
    "# Warnings\n",
    "import warnings\n",
    "\n",
    "# Set filter warnings to ignore\n",
    "warnings.filterwarnings('ignore')\n",
    "\n",
    "set_config(transform_output='pandas')"
   ]
  },
  {
   "cell_type": "markdown",
   "id": "93832e4b-2328-4dd1-a816-b25054616ee4",
   "metadata": {},
   "source": [
    "# `Load Data`"
   ]
  },
  {
   "cell_type": "code",
   "execution_count": 4,
   "id": "03c120e4-0dd8-44ae-be93-b9d384539e32",
   "metadata": {},
   "outputs": [
    {
     "name": "stdout",
     "output_type": "stream",
     "text": [
      "<class 'pandas.core.frame.DataFrame'>\n",
      "RangeIndex: 10000 entries, 0 to 9999\n",
      "Data columns (total 29 columns):\n",
      " #   Column  Non-Null Count  Dtype  \n",
      "---  ------  --------------  -----  \n",
      " 0   V1      10000 non-null  float64\n",
      " 1   V2      10000 non-null  float64\n",
      " 2   V3      10000 non-null  float64\n",
      " 3   V4      10000 non-null  float64\n",
      " 4   V5      10000 non-null  float64\n",
      " 5   V6      10000 non-null  float64\n",
      " 6   V7      10000 non-null  float64\n",
      " 7   V8      10000 non-null  float64\n",
      " 8   V9      10000 non-null  float64\n",
      " 9   V10     10000 non-null  float64\n",
      " 10  V11     10000 non-null  float64\n",
      " 11  V12     10000 non-null  float64\n",
      " 12  V13     10000 non-null  float64\n",
      " 13  V14     10000 non-null  float64\n",
      " 14  V15     10000 non-null  float64\n",
      " 15  V16     10000 non-null  float64\n",
      " 16  V17     10000 non-null  float64\n",
      " 17  V18     10000 non-null  float64\n",
      " 18  V19     10000 non-null  float64\n",
      " 19  V20     10000 non-null  float64\n",
      " 20  V21     10000 non-null  float64\n",
      " 21  V22     10000 non-null  float64\n",
      " 22  V23     10000 non-null  float64\n",
      " 23  V24     10000 non-null  float64\n",
      " 24  V25     10000 non-null  float64\n",
      " 25  V26     10000 non-null  float64\n",
      " 26  V27     10000 non-null  float64\n",
      " 27  V28     10000 non-null  float64\n",
      " 28  Amount  10000 non-null  float64\n",
      "dtypes: float64(29)\n",
      "memory usage: 2.2 MB\n"
     ]
    },
    {
     "data": {
      "text/html": [
       "<div>\n",
       "<style scoped>\n",
       "    .dataframe tbody tr th:only-of-type {\n",
       "        vertical-align: middle;\n",
       "    }\n",
       "\n",
       "    .dataframe tbody tr th {\n",
       "        vertical-align: top;\n",
       "    }\n",
       "\n",
       "    .dataframe thead th {\n",
       "        text-align: right;\n",
       "    }\n",
       "</style>\n",
       "<table border=\"1\" class=\"dataframe\">\n",
       "  <thead>\n",
       "    <tr style=\"text-align: right;\">\n",
       "      <th></th>\n",
       "      <th>V1</th>\n",
       "      <th>V2</th>\n",
       "      <th>V3</th>\n",
       "      <th>V4</th>\n",
       "      <th>V5</th>\n",
       "      <th>V6</th>\n",
       "      <th>V7</th>\n",
       "      <th>V8</th>\n",
       "      <th>V9</th>\n",
       "      <th>V10</th>\n",
       "      <th>...</th>\n",
       "      <th>V20</th>\n",
       "      <th>V21</th>\n",
       "      <th>V22</th>\n",
       "      <th>V23</th>\n",
       "      <th>V24</th>\n",
       "      <th>V25</th>\n",
       "      <th>V26</th>\n",
       "      <th>V27</th>\n",
       "      <th>V28</th>\n",
       "      <th>Amount</th>\n",
       "    </tr>\n",
       "  </thead>\n",
       "  <tbody>\n",
       "    <tr>\n",
       "      <th>0</th>\n",
       "      <td>-1.359807</td>\n",
       "      <td>-0.072781</td>\n",
       "      <td>2.536347</td>\n",
       "      <td>1.378155</td>\n",
       "      <td>-0.338321</td>\n",
       "      <td>0.462388</td>\n",
       "      <td>0.239599</td>\n",
       "      <td>0.098698</td>\n",
       "      <td>0.363787</td>\n",
       "      <td>0.090794</td>\n",
       "      <td>...</td>\n",
       "      <td>0.251412</td>\n",
       "      <td>-0.018307</td>\n",
       "      <td>0.277838</td>\n",
       "      <td>-0.110474</td>\n",
       "      <td>0.066928</td>\n",
       "      <td>0.128539</td>\n",
       "      <td>-0.189115</td>\n",
       "      <td>0.133558</td>\n",
       "      <td>-0.021053</td>\n",
       "      <td>149.62</td>\n",
       "    </tr>\n",
       "    <tr>\n",
       "      <th>1</th>\n",
       "      <td>1.191857</td>\n",
       "      <td>0.266151</td>\n",
       "      <td>0.166480</td>\n",
       "      <td>0.448154</td>\n",
       "      <td>0.060018</td>\n",
       "      <td>-0.082361</td>\n",
       "      <td>-0.078803</td>\n",
       "      <td>0.085102</td>\n",
       "      <td>-0.255425</td>\n",
       "      <td>-0.166974</td>\n",
       "      <td>...</td>\n",
       "      <td>-0.069083</td>\n",
       "      <td>-0.225775</td>\n",
       "      <td>-0.638672</td>\n",
       "      <td>0.101288</td>\n",
       "      <td>-0.339846</td>\n",
       "      <td>0.167170</td>\n",
       "      <td>0.125895</td>\n",
       "      <td>-0.008983</td>\n",
       "      <td>0.014724</td>\n",
       "      <td>2.69</td>\n",
       "    </tr>\n",
       "    <tr>\n",
       "      <th>2</th>\n",
       "      <td>-1.358354</td>\n",
       "      <td>-1.340163</td>\n",
       "      <td>1.773209</td>\n",
       "      <td>0.379780</td>\n",
       "      <td>-0.503198</td>\n",
       "      <td>1.800499</td>\n",
       "      <td>0.791461</td>\n",
       "      <td>0.247676</td>\n",
       "      <td>-1.514654</td>\n",
       "      <td>0.207643</td>\n",
       "      <td>...</td>\n",
       "      <td>0.524980</td>\n",
       "      <td>0.247998</td>\n",
       "      <td>0.771679</td>\n",
       "      <td>0.909412</td>\n",
       "      <td>-0.689281</td>\n",
       "      <td>-0.327642</td>\n",
       "      <td>-0.139097</td>\n",
       "      <td>-0.055353</td>\n",
       "      <td>-0.059752</td>\n",
       "      <td>378.66</td>\n",
       "    </tr>\n",
       "    <tr>\n",
       "      <th>3</th>\n",
       "      <td>-0.966272</td>\n",
       "      <td>-0.185226</td>\n",
       "      <td>1.792993</td>\n",
       "      <td>-0.863291</td>\n",
       "      <td>-0.010309</td>\n",
       "      <td>1.247203</td>\n",
       "      <td>0.237609</td>\n",
       "      <td>0.377436</td>\n",
       "      <td>-1.387024</td>\n",
       "      <td>-0.054952</td>\n",
       "      <td>...</td>\n",
       "      <td>-0.208038</td>\n",
       "      <td>-0.108300</td>\n",
       "      <td>0.005274</td>\n",
       "      <td>-0.190321</td>\n",
       "      <td>-1.175575</td>\n",
       "      <td>0.647376</td>\n",
       "      <td>-0.221929</td>\n",
       "      <td>0.062723</td>\n",
       "      <td>0.061458</td>\n",
       "      <td>123.50</td>\n",
       "    </tr>\n",
       "    <tr>\n",
       "      <th>4</th>\n",
       "      <td>-1.158233</td>\n",
       "      <td>0.877737</td>\n",
       "      <td>1.548718</td>\n",
       "      <td>0.403034</td>\n",
       "      <td>-0.407193</td>\n",
       "      <td>0.095921</td>\n",
       "      <td>0.592941</td>\n",
       "      <td>-0.270533</td>\n",
       "      <td>0.817739</td>\n",
       "      <td>0.753074</td>\n",
       "      <td>...</td>\n",
       "      <td>0.408542</td>\n",
       "      <td>-0.009431</td>\n",
       "      <td>0.798278</td>\n",
       "      <td>-0.137458</td>\n",
       "      <td>0.141267</td>\n",
       "      <td>-0.206010</td>\n",
       "      <td>0.502292</td>\n",
       "      <td>0.219422</td>\n",
       "      <td>0.215153</td>\n",
       "      <td>69.99</td>\n",
       "    </tr>\n",
       "  </tbody>\n",
       "</table>\n",
       "<p>5 rows × 29 columns</p>\n",
       "</div>"
      ],
      "text/plain": [
       "         V1        V2        V3        V4        V5        V6        V7  \\\n",
       "0 -1.359807 -0.072781  2.536347  1.378155 -0.338321  0.462388  0.239599   \n",
       "1  1.191857  0.266151  0.166480  0.448154  0.060018 -0.082361 -0.078803   \n",
       "2 -1.358354 -1.340163  1.773209  0.379780 -0.503198  1.800499  0.791461   \n",
       "3 -0.966272 -0.185226  1.792993 -0.863291 -0.010309  1.247203  0.237609   \n",
       "4 -1.158233  0.877737  1.548718  0.403034 -0.407193  0.095921  0.592941   \n",
       "\n",
       "         V8        V9       V10  ...       V20       V21       V22       V23  \\\n",
       "0  0.098698  0.363787  0.090794  ...  0.251412 -0.018307  0.277838 -0.110474   \n",
       "1  0.085102 -0.255425 -0.166974  ... -0.069083 -0.225775 -0.638672  0.101288   \n",
       "2  0.247676 -1.514654  0.207643  ...  0.524980  0.247998  0.771679  0.909412   \n",
       "3  0.377436 -1.387024 -0.054952  ... -0.208038 -0.108300  0.005274 -0.190321   \n",
       "4 -0.270533  0.817739  0.753074  ...  0.408542 -0.009431  0.798278 -0.137458   \n",
       "\n",
       "        V24       V25       V26       V27       V28  Amount  \n",
       "0  0.066928  0.128539 -0.189115  0.133558 -0.021053  149.62  \n",
       "1 -0.339846  0.167170  0.125895 -0.008983  0.014724    2.69  \n",
       "2 -0.689281 -0.327642 -0.139097 -0.055353 -0.059752  378.66  \n",
       "3 -1.175575  0.647376 -0.221929  0.062723  0.061458  123.50  \n",
       "4  0.141267 -0.206010  0.502292  0.219422  0.215153   69.99  \n",
       "\n",
       "[5 rows x 29 columns]"
      ]
     },
     "execution_count": 4,
     "metadata": {},
     "output_type": "execute_result"
    }
   ],
   "source": [
    "# Loading and looking at the data\n",
    "df = pd.read_csv('Data/credit_card.csv')\n",
    "df.info()\n",
    "df.head()"
   ]
  },
  {
   "cell_type": "markdown",
   "id": "b9616c13-4d02-49c4-92f7-265ea3db72d8",
   "metadata": {},
   "source": [
    "# `Clean Data`"
   ]
  },
  {
   "cell_type": "code",
   "execution_count": 5,
   "id": "8b488525-0387-4934-b2f4-23c510bfbf3c",
   "metadata": {},
   "outputs": [
    {
     "name": "stdout",
     "output_type": "stream",
     "text": [
      "Number of Duplicated Rows 0\n",
      "\n",
      "\n",
      "<class 'pandas.core.frame.DataFrame'>\n",
      "RangeIndex: 10000 entries, 0 to 9999\n",
      "Data columns (total 29 columns):\n",
      " #   Column  Non-Null Count  Dtype  \n",
      "---  ------  --------------  -----  \n",
      " 0   V1      10000 non-null  float64\n",
      " 1   V2      10000 non-null  float64\n",
      " 2   V3      10000 non-null  float64\n",
      " 3   V4      10000 non-null  float64\n",
      " 4   V5      10000 non-null  float64\n",
      " 5   V6      10000 non-null  float64\n",
      " 6   V7      10000 non-null  float64\n",
      " 7   V8      10000 non-null  float64\n",
      " 8   V9      10000 non-null  float64\n",
      " 9   V10     10000 non-null  float64\n",
      " 10  V11     10000 non-null  float64\n",
      " 11  V12     10000 non-null  float64\n",
      " 12  V13     10000 non-null  float64\n",
      " 13  V14     10000 non-null  float64\n",
      " 14  V15     10000 non-null  float64\n",
      " 15  V16     10000 non-null  float64\n",
      " 16  V17     10000 non-null  float64\n",
      " 17  V18     10000 non-null  float64\n",
      " 18  V19     10000 non-null  float64\n",
      " 19  V20     10000 non-null  float64\n",
      " 20  V21     10000 non-null  float64\n",
      " 21  V22     10000 non-null  float64\n",
      " 22  V23     10000 non-null  float64\n",
      " 23  V24     10000 non-null  float64\n",
      " 24  V25     10000 non-null  float64\n",
      " 25  V26     10000 non-null  float64\n",
      " 26  V27     10000 non-null  float64\n",
      " 27  V28     10000 non-null  float64\n",
      " 28  Amount  10000 non-null  float64\n",
      "dtypes: float64(29)\n",
      "memory usage: 2.2 MB\n"
     ]
    }
   ],
   "source": [
    "# Looking for duplicates\n",
    "print('Number of Duplicated Rows', df.duplicated().sum())\n",
    "print('\\n')\n",
    "df.info()"
   ]
  },
  {
   "cell_type": "code",
   "execution_count": 6,
   "id": "6a322e1f-9697-428c-9f48-d5b9eb3286b9",
   "metadata": {},
   "outputs": [
    {
     "data": {
      "text/html": [
       "<div>\n",
       "<style scoped>\n",
       "    .dataframe tbody tr th:only-of-type {\n",
       "        vertical-align: middle;\n",
       "    }\n",
       "\n",
       "    .dataframe tbody tr th {\n",
       "        vertical-align: top;\n",
       "    }\n",
       "\n",
       "    .dataframe thead th {\n",
       "        text-align: right;\n",
       "    }\n",
       "</style>\n",
       "<table border=\"1\" class=\"dataframe\">\n",
       "  <thead>\n",
       "    <tr style=\"text-align: right;\">\n",
       "      <th></th>\n",
       "      <th>V1</th>\n",
       "      <th>V2</th>\n",
       "      <th>V3</th>\n",
       "      <th>V4</th>\n",
       "      <th>V5</th>\n",
       "      <th>V6</th>\n",
       "      <th>V7</th>\n",
       "      <th>V8</th>\n",
       "      <th>V9</th>\n",
       "      <th>V10</th>\n",
       "      <th>...</th>\n",
       "      <th>V20</th>\n",
       "      <th>V21</th>\n",
       "      <th>V22</th>\n",
       "      <th>V23</th>\n",
       "      <th>V24</th>\n",
       "      <th>V25</th>\n",
       "      <th>V26</th>\n",
       "      <th>V27</th>\n",
       "      <th>V28</th>\n",
       "      <th>Amount</th>\n",
       "    </tr>\n",
       "  </thead>\n",
       "  <tbody>\n",
       "    <tr>\n",
       "      <th>count</th>\n",
       "      <td>10000.000000</td>\n",
       "      <td>10000.000000</td>\n",
       "      <td>10000.000000</td>\n",
       "      <td>10000.000000</td>\n",
       "      <td>10000.000000</td>\n",
       "      <td>10000.000000</td>\n",
       "      <td>10000.000000</td>\n",
       "      <td>10000.000000</td>\n",
       "      <td>10000.000000</td>\n",
       "      <td>10000.000000</td>\n",
       "      <td>...</td>\n",
       "      <td>10000.000000</td>\n",
       "      <td>10000.000000</td>\n",
       "      <td>10000.000000</td>\n",
       "      <td>10000.000000</td>\n",
       "      <td>10000.000000</td>\n",
       "      <td>10000.000000</td>\n",
       "      <td>10000.000000</td>\n",
       "      <td>10000.000000</td>\n",
       "      <td>10000.000000</td>\n",
       "      <td>10000.000000</td>\n",
       "    </tr>\n",
       "    <tr>\n",
       "      <th>mean</th>\n",
       "      <td>-0.254287</td>\n",
       "      <td>0.283266</td>\n",
       "      <td>0.919481</td>\n",
       "      <td>0.290123</td>\n",
       "      <td>-0.060268</td>\n",
       "      <td>0.119328</td>\n",
       "      <td>-0.068060</td>\n",
       "      <td>-0.065865</td>\n",
       "      <td>0.812108</td>\n",
       "      <td>-0.223647</td>\n",
       "      <td>...</td>\n",
       "      <td>0.030729</td>\n",
       "      <td>-0.057396</td>\n",
       "      <td>-0.158022</td>\n",
       "      <td>-0.030401</td>\n",
       "      <td>0.017295</td>\n",
       "      <td>0.085811</td>\n",
       "      <td>0.107121</td>\n",
       "      <td>0.006845</td>\n",
       "      <td>0.003067</td>\n",
       "      <td>64.520252</td>\n",
       "    </tr>\n",
       "    <tr>\n",
       "      <th>std</th>\n",
       "      <td>1.522637</td>\n",
       "      <td>1.314546</td>\n",
       "      <td>1.163288</td>\n",
       "      <td>1.427511</td>\n",
       "      <td>1.173778</td>\n",
       "      <td>1.299279</td>\n",
       "      <td>1.078250</td>\n",
       "      <td>1.255474</td>\n",
       "      <td>1.166215</td>\n",
       "      <td>1.099040</td>\n",
       "      <td>...</td>\n",
       "      <td>0.595192</td>\n",
       "      <td>0.907699</td>\n",
       "      <td>0.631906</td>\n",
       "      <td>0.489834</td>\n",
       "      <td>0.591947</td>\n",
       "      <td>0.430758</td>\n",
       "      <td>0.556106</td>\n",
       "      <td>0.404949</td>\n",
       "      <td>0.267988</td>\n",
       "      <td>185.221202</td>\n",
       "    </tr>\n",
       "    <tr>\n",
       "      <th>min</th>\n",
       "      <td>-27.670569</td>\n",
       "      <td>-34.607649</td>\n",
       "      <td>-15.496222</td>\n",
       "      <td>-4.657545</td>\n",
       "      <td>-32.092129</td>\n",
       "      <td>-23.496714</td>\n",
       "      <td>-26.548144</td>\n",
       "      <td>-23.632502</td>\n",
       "      <td>-6.329801</td>\n",
       "      <td>-13.193415</td>\n",
       "      <td>...</td>\n",
       "      <td>-13.276034</td>\n",
       "      <td>-11.468435</td>\n",
       "      <td>-8.527145</td>\n",
       "      <td>-15.144340</td>\n",
       "      <td>-2.512377</td>\n",
       "      <td>-2.577363</td>\n",
       "      <td>-1.338556</td>\n",
       "      <td>-7.976100</td>\n",
       "      <td>-3.509250</td>\n",
       "      <td>0.000000</td>\n",
       "    </tr>\n",
       "    <tr>\n",
       "      <th>25%</th>\n",
       "      <td>-1.027537</td>\n",
       "      <td>-0.214263</td>\n",
       "      <td>0.424669</td>\n",
       "      <td>-0.589896</td>\n",
       "      <td>-0.645458</td>\n",
       "      <td>-0.633723</td>\n",
       "      <td>-0.535728</td>\n",
       "      <td>-0.192522</td>\n",
       "      <td>0.072521</td>\n",
       "      <td>-0.688422</td>\n",
       "      <td>...</td>\n",
       "      <td>-0.149775</td>\n",
       "      <td>-0.271001</td>\n",
       "      <td>-0.555175</td>\n",
       "      <td>-0.172704</td>\n",
       "      <td>-0.329963</td>\n",
       "      <td>-0.162928</td>\n",
       "      <td>-0.325964</td>\n",
       "      <td>-0.083980</td>\n",
       "      <td>-0.015625</td>\n",
       "      <td>5.380000</td>\n",
       "    </tr>\n",
       "    <tr>\n",
       "      <th>50%</th>\n",
       "      <td>-0.383856</td>\n",
       "      <td>0.292181</td>\n",
       "      <td>0.954225</td>\n",
       "      <td>0.235755</td>\n",
       "      <td>-0.156229</td>\n",
       "      <td>-0.160367</td>\n",
       "      <td>-0.052060</td>\n",
       "      <td>0.011440</td>\n",
       "      <td>0.815950</td>\n",
       "      <td>-0.340435</td>\n",
       "      <td>...</td>\n",
       "      <td>-0.020913</td>\n",
       "      <td>-0.128229</td>\n",
       "      <td>-0.145288</td>\n",
       "      <td>-0.044523</td>\n",
       "      <td>0.078389</td>\n",
       "      <td>0.118709</td>\n",
       "      <td>0.040788</td>\n",
       "      <td>-0.004320</td>\n",
       "      <td>0.016480</td>\n",
       "      <td>15.950000</td>\n",
       "    </tr>\n",
       "    <tr>\n",
       "      <th>75%</th>\n",
       "      <td>1.146465</td>\n",
       "      <td>0.913810</td>\n",
       "      <td>1.611713</td>\n",
       "      <td>1.138298</td>\n",
       "      <td>0.359786</td>\n",
       "      <td>0.489572</td>\n",
       "      <td>0.472143</td>\n",
       "      <td>0.264272</td>\n",
       "      <td>1.517105</td>\n",
       "      <td>0.170406</td>\n",
       "      <td>...</td>\n",
       "      <td>0.160834</td>\n",
       "      <td>0.031776</td>\n",
       "      <td>0.238299</td>\n",
       "      <td>0.084179</td>\n",
       "      <td>0.407717</td>\n",
       "      <td>0.360469</td>\n",
       "      <td>0.467256</td>\n",
       "      <td>0.118735</td>\n",
       "      <td>0.078644</td>\n",
       "      <td>53.175000</td>\n",
       "    </tr>\n",
       "    <tr>\n",
       "      <th>max</th>\n",
       "      <td>1.960497</td>\n",
       "      <td>8.636214</td>\n",
       "      <td>4.101716</td>\n",
       "      <td>10.463020</td>\n",
       "      <td>34.099309</td>\n",
       "      <td>21.393069</td>\n",
       "      <td>34.303177</td>\n",
       "      <td>5.060381</td>\n",
       "      <td>10.392889</td>\n",
       "      <td>12.259949</td>\n",
       "      <td>...</td>\n",
       "      <td>8.012574</td>\n",
       "      <td>22.588989</td>\n",
       "      <td>4.534454</td>\n",
       "      <td>13.876221</td>\n",
       "      <td>3.200201</td>\n",
       "      <td>5.525093</td>\n",
       "      <td>3.517346</td>\n",
       "      <td>8.254376</td>\n",
       "      <td>4.860769</td>\n",
       "      <td>7712.430000</td>\n",
       "    </tr>\n",
       "  </tbody>\n",
       "</table>\n",
       "<p>8 rows × 29 columns</p>\n",
       "</div>"
      ],
      "text/plain": [
       "                 V1            V2            V3            V4            V5  \\\n",
       "count  10000.000000  10000.000000  10000.000000  10000.000000  10000.000000   \n",
       "mean      -0.254287      0.283266      0.919481      0.290123     -0.060268   \n",
       "std        1.522637      1.314546      1.163288      1.427511      1.173778   \n",
       "min      -27.670569    -34.607649    -15.496222     -4.657545    -32.092129   \n",
       "25%       -1.027537     -0.214263      0.424669     -0.589896     -0.645458   \n",
       "50%       -0.383856      0.292181      0.954225      0.235755     -0.156229   \n",
       "75%        1.146465      0.913810      1.611713      1.138298      0.359786   \n",
       "max        1.960497      8.636214      4.101716     10.463020     34.099309   \n",
       "\n",
       "                 V6            V7            V8            V9           V10  \\\n",
       "count  10000.000000  10000.000000  10000.000000  10000.000000  10000.000000   \n",
       "mean       0.119328     -0.068060     -0.065865      0.812108     -0.223647   \n",
       "std        1.299279      1.078250      1.255474      1.166215      1.099040   \n",
       "min      -23.496714    -26.548144    -23.632502     -6.329801    -13.193415   \n",
       "25%       -0.633723     -0.535728     -0.192522      0.072521     -0.688422   \n",
       "50%       -0.160367     -0.052060      0.011440      0.815950     -0.340435   \n",
       "75%        0.489572      0.472143      0.264272      1.517105      0.170406   \n",
       "max       21.393069     34.303177      5.060381     10.392889     12.259949   \n",
       "\n",
       "       ...           V20           V21           V22           V23  \\\n",
       "count  ...  10000.000000  10000.000000  10000.000000  10000.000000   \n",
       "mean   ...      0.030729     -0.057396     -0.158022     -0.030401   \n",
       "std    ...      0.595192      0.907699      0.631906      0.489834   \n",
       "min    ...    -13.276034    -11.468435     -8.527145    -15.144340   \n",
       "25%    ...     -0.149775     -0.271001     -0.555175     -0.172704   \n",
       "50%    ...     -0.020913     -0.128229     -0.145288     -0.044523   \n",
       "75%    ...      0.160834      0.031776      0.238299      0.084179   \n",
       "max    ...      8.012574     22.588989      4.534454     13.876221   \n",
       "\n",
       "                V24           V25           V26           V27           V28  \\\n",
       "count  10000.000000  10000.000000  10000.000000  10000.000000  10000.000000   \n",
       "mean       0.017295      0.085811      0.107121      0.006845      0.003067   \n",
       "std        0.591947      0.430758      0.556106      0.404949      0.267988   \n",
       "min       -2.512377     -2.577363     -1.338556     -7.976100     -3.509250   \n",
       "25%       -0.329963     -0.162928     -0.325964     -0.083980     -0.015625   \n",
       "50%        0.078389      0.118709      0.040788     -0.004320      0.016480   \n",
       "75%        0.407717      0.360469      0.467256      0.118735      0.078644   \n",
       "max        3.200201      5.525093      3.517346      8.254376      4.860769   \n",
       "\n",
       "             Amount  \n",
       "count  10000.000000  \n",
       "mean      64.520252  \n",
       "std      185.221202  \n",
       "min        0.000000  \n",
       "25%        5.380000  \n",
       "50%       15.950000  \n",
       "75%       53.175000  \n",
       "max     7712.430000  \n",
       "\n",
       "[8 rows x 29 columns]"
      ]
     },
     "execution_count": 6,
     "metadata": {},
     "output_type": "execute_result"
    }
   ],
   "source": [
    "# Looking over stats\n",
    "df.describe()"
   ]
  },
  {
   "cell_type": "markdown",
   "id": "3cb2bcc2-ec44-4f51-9765-6a24a46132c7",
   "metadata": {},
   "source": [
    "## <u>1. KMeans:\n",
    "* ### Rememeber to scale you data."
   ]
  },
  {
   "cell_type": "code",
   "execution_count": 7,
   "id": "bfecf411-f5f8-4d75-8d28-a41a4dce3b66",
   "metadata": {},
   "outputs": [
    {
     "data": {
      "text/html": [
       "<div>\n",
       "<style scoped>\n",
       "    .dataframe tbody tr th:only-of-type {\n",
       "        vertical-align: middle;\n",
       "    }\n",
       "\n",
       "    .dataframe tbody tr th {\n",
       "        vertical-align: top;\n",
       "    }\n",
       "\n",
       "    .dataframe thead th {\n",
       "        text-align: right;\n",
       "    }\n",
       "</style>\n",
       "<table border=\"1\" class=\"dataframe\">\n",
       "  <thead>\n",
       "    <tr style=\"text-align: right;\">\n",
       "      <th></th>\n",
       "      <th>V1</th>\n",
       "      <th>V2</th>\n",
       "      <th>V3</th>\n",
       "      <th>V4</th>\n",
       "      <th>V5</th>\n",
       "      <th>V6</th>\n",
       "      <th>V7</th>\n",
       "      <th>V8</th>\n",
       "      <th>V9</th>\n",
       "      <th>V10</th>\n",
       "      <th>...</th>\n",
       "      <th>V20</th>\n",
       "      <th>V21</th>\n",
       "      <th>V22</th>\n",
       "      <th>V23</th>\n",
       "      <th>V24</th>\n",
       "      <th>V25</th>\n",
       "      <th>V26</th>\n",
       "      <th>V27</th>\n",
       "      <th>V28</th>\n",
       "      <th>Amount</th>\n",
       "    </tr>\n",
       "  </thead>\n",
       "  <tbody>\n",
       "    <tr>\n",
       "      <th>0</th>\n",
       "      <td>-0.726092</td>\n",
       "      <td>-0.270865</td>\n",
       "      <td>1.389980</td>\n",
       "      <td>0.762227</td>\n",
       "      <td>-0.236899</td>\n",
       "      <td>0.264052</td>\n",
       "      <td>0.285346</td>\n",
       "      <td>0.131083</td>\n",
       "      <td>-0.384443</td>\n",
       "      <td>0.286120</td>\n",
       "      <td>...</td>\n",
       "      <td>0.370795</td>\n",
       "      <td>0.043066</td>\n",
       "      <td>0.689788</td>\n",
       "      <td>-0.163478</td>\n",
       "      <td>0.083851</td>\n",
       "      <td>0.099198</td>\n",
       "      <td>-0.532722</td>\n",
       "      <td>0.312929</td>\n",
       "      <td>-0.090009</td>\n",
       "      <td>0.459472</td>\n",
       "    </tr>\n",
       "    <tr>\n",
       "      <th>1</th>\n",
       "      <td>0.949810</td>\n",
       "      <td>-0.013020</td>\n",
       "      <td>-0.647336</td>\n",
       "      <td>0.110710</td>\n",
       "      <td>0.102482</td>\n",
       "      <td>-0.155239</td>\n",
       "      <td>-0.009963</td>\n",
       "      <td>0.120253</td>\n",
       "      <td>-0.915428</td>\n",
       "      <td>0.051569</td>\n",
       "      <td>...</td>\n",
       "      <td>-0.167706</td>\n",
       "      <td>-0.185510</td>\n",
       "      <td>-0.760673</td>\n",
       "      <td>0.268858</td>\n",
       "      <td>-0.603364</td>\n",
       "      <td>0.188884</td>\n",
       "      <td>0.033761</td>\n",
       "      <td>-0.039088</td>\n",
       "      <td>0.043500</td>\n",
       "      <td>-0.333835</td>\n",
       "    </tr>\n",
       "    <tr>\n",
       "      <th>2</th>\n",
       "      <td>-0.725138</td>\n",
       "      <td>-1.235035</td>\n",
       "      <td>0.733929</td>\n",
       "      <td>0.062810</td>\n",
       "      <td>-0.377373</td>\n",
       "      <td>1.293991</td>\n",
       "      <td>0.797185</td>\n",
       "      <td>0.249752</td>\n",
       "      <td>-1.995239</td>\n",
       "      <td>0.392444</td>\n",
       "      <td>...</td>\n",
       "      <td>0.830447</td>\n",
       "      <td>0.336466</td>\n",
       "      <td>1.471338</td>\n",
       "      <td>1.918734</td>\n",
       "      <td>-1.193707</td>\n",
       "      <td>-0.959876</td>\n",
       "      <td>-0.442774</td>\n",
       "      <td>-0.153601</td>\n",
       "      <td>-0.234422</td>\n",
       "      <td>1.696110</td>\n",
       "    </tr>\n",
       "    <tr>\n",
       "      <th>3</th>\n",
       "      <td>-0.467623</td>\n",
       "      <td>-0.356408</td>\n",
       "      <td>0.750937</td>\n",
       "      <td>-0.808030</td>\n",
       "      <td>0.042565</td>\n",
       "      <td>0.868121</td>\n",
       "      <td>0.283501</td>\n",
       "      <td>0.353112</td>\n",
       "      <td>-1.885794</td>\n",
       "      <td>0.153501</td>\n",
       "      <td>...</td>\n",
       "      <td>-0.401179</td>\n",
       "      <td>-0.056083</td>\n",
       "      <td>0.258431</td>\n",
       "      <td>-0.326493</td>\n",
       "      <td>-2.015264</td>\n",
       "      <td>1.303733</td>\n",
       "      <td>-0.591732</td>\n",
       "      <td>0.137995</td>\n",
       "      <td>0.217896</td>\n",
       "      <td>0.318445</td>\n",
       "    </tr>\n",
       "    <tr>\n",
       "      <th>4</th>\n",
       "      <td>-0.593701</td>\n",
       "      <td>0.452248</td>\n",
       "      <td>0.540940</td>\n",
       "      <td>0.079101</td>\n",
       "      <td>-0.295578</td>\n",
       "      <td>-0.018016</td>\n",
       "      <td>0.613062</td>\n",
       "      <td>-0.163028</td>\n",
       "      <td>0.004829</td>\n",
       "      <td>0.888749</td>\n",
       "      <td>...</td>\n",
       "      <td>0.634808</td>\n",
       "      <td>0.052846</td>\n",
       "      <td>1.513434</td>\n",
       "      <td>-0.218569</td>\n",
       "      <td>0.209441</td>\n",
       "      <td>-0.677493</td>\n",
       "      <td>0.710640</td>\n",
       "      <td>0.524976</td>\n",
       "      <td>0.791442</td>\n",
       "      <td>0.029532</td>\n",
       "    </tr>\n",
       "  </tbody>\n",
       "</table>\n",
       "<p>5 rows × 29 columns</p>\n",
       "</div>"
      ],
      "text/plain": [
       "         V1        V2        V3        V4        V5        V6        V7  \\\n",
       "0 -0.726092 -0.270865  1.389980  0.762227 -0.236899  0.264052  0.285346   \n",
       "1  0.949810 -0.013020 -0.647336  0.110710  0.102482 -0.155239 -0.009963   \n",
       "2 -0.725138 -1.235035  0.733929  0.062810 -0.377373  1.293991  0.797185   \n",
       "3 -0.467623 -0.356408  0.750937 -0.808030  0.042565  0.868121  0.283501   \n",
       "4 -0.593701  0.452248  0.540940  0.079101 -0.295578 -0.018016  0.613062   \n",
       "\n",
       "         V8        V9       V10  ...       V20       V21       V22       V23  \\\n",
       "0  0.131083 -0.384443  0.286120  ...  0.370795  0.043066  0.689788 -0.163478   \n",
       "1  0.120253 -0.915428  0.051569  ... -0.167706 -0.185510 -0.760673  0.268858   \n",
       "2  0.249752 -1.995239  0.392444  ...  0.830447  0.336466  1.471338  1.918734   \n",
       "3  0.353112 -1.885794  0.153501  ... -0.401179 -0.056083  0.258431 -0.326493   \n",
       "4 -0.163028  0.004829  0.888749  ...  0.634808  0.052846  1.513434 -0.218569   \n",
       "\n",
       "        V24       V25       V26       V27       V28    Amount  \n",
       "0  0.083851  0.099198 -0.532722  0.312929 -0.090009  0.459472  \n",
       "1 -0.603364  0.188884  0.033761 -0.039088  0.043500 -0.333835  \n",
       "2 -1.193707 -0.959876 -0.442774 -0.153601 -0.234422  1.696110  \n",
       "3 -2.015264  1.303733 -0.591732  0.137995  0.217896  0.318445  \n",
       "4  0.209441 -0.677493  0.710640  0.524976  0.791442  0.029532  \n",
       "\n",
       "[5 rows x 29 columns]"
      ]
     },
     "execution_count": 7,
     "metadata": {},
     "output_type": "execute_result"
    }
   ],
   "source": [
    "# Scaling the data\n",
    "scaler = StandardScaler()\n",
    "X_scaled = pd.DataFrame(scaler.fit_transform(df), columns=df.columns)\n",
    "X_scaled.head()"
   ]
  },
  {
   "cell_type": "code",
   "execution_count": 11,
   "id": "e2483b28-2ed7-4ab6-ba01-679f66388839",
   "metadata": {},
   "outputs": [
    {
     "data": {
      "text/html": [
       "<div>\n",
       "<style scoped>\n",
       "    .dataframe tbody tr th:only-of-type {\n",
       "        vertical-align: middle;\n",
       "    }\n",
       "\n",
       "    .dataframe tbody tr th {\n",
       "        vertical-align: top;\n",
       "    }\n",
       "\n",
       "    .dataframe thead th {\n",
       "        text-align: right;\n",
       "    }\n",
       "</style>\n",
       "<table border=\"1\" class=\"dataframe\">\n",
       "  <thead>\n",
       "    <tr style=\"text-align: right;\">\n",
       "      <th></th>\n",
       "      <th>x1</th>\n",
       "      <th>x2</th>\n",
       "    </tr>\n",
       "  </thead>\n",
       "  <tbody>\n",
       "    <tr>\n",
       "      <th>0</th>\n",
       "      <td>7.793419</td>\n",
       "      <td>-7.149916</td>\n",
       "    </tr>\n",
       "    <tr>\n",
       "      <th>1</th>\n",
       "      <td>8.783409</td>\n",
       "      <td>-9.979164</td>\n",
       "    </tr>\n",
       "    <tr>\n",
       "      <th>2</th>\n",
       "      <td>7.467731</td>\n",
       "      <td>1.424818</td>\n",
       "    </tr>\n",
       "    <tr>\n",
       "      <th>3</th>\n",
       "      <td>9.204612</td>\n",
       "      <td>-5.804796</td>\n",
       "    </tr>\n",
       "    <tr>\n",
       "      <th>4</th>\n",
       "      <td>10.242530</td>\n",
       "      <td>-3.605225</td>\n",
       "    </tr>\n",
       "  </tbody>\n",
       "</table>\n",
       "</div>"
      ],
      "text/plain": [
       "          x1        x2\n",
       "0   7.793419 -7.149916\n",
       "1   8.783409 -9.979164\n",
       "2   7.467731  1.424818\n",
       "3   9.204612 -5.804796\n",
       "4  10.242530 -3.605225"
      ]
     },
     "execution_count": 11,
     "metadata": {},
     "output_type": "execute_result"
    }
   ],
   "source": [
    "# Create dataset with 3 centers\n",
    "X_, y_ = make_blobs(n_samples=300, centers=3, random_state=321)\n",
    "X = pd.DataFrame(X_, columns=['x1','x2'])\n",
    "X.head()"
   ]
  },
  {
   "cell_type": "code",
   "execution_count": 15,
   "id": "fa85a7fc-6207-4fab-b6a8-7cba7310705e",
   "metadata": {},
   "outputs": [
    {
     "data": {
      "text/html": [
       "<style>#sk-container-id-3 {color: black;background-color: white;}#sk-container-id-3 pre{padding: 0;}#sk-container-id-3 div.sk-toggleable {background-color: white;}#sk-container-id-3 label.sk-toggleable__label {cursor: pointer;display: block;width: 100%;margin-bottom: 0;padding: 0.3em;box-sizing: border-box;text-align: center;}#sk-container-id-3 label.sk-toggleable__label-arrow:before {content: \"▸\";float: left;margin-right: 0.25em;color: #696969;}#sk-container-id-3 label.sk-toggleable__label-arrow:hover:before {color: black;}#sk-container-id-3 div.sk-estimator:hover label.sk-toggleable__label-arrow:before {color: black;}#sk-container-id-3 div.sk-toggleable__content {max-height: 0;max-width: 0;overflow: hidden;text-align: left;background-color: #f0f8ff;}#sk-container-id-3 div.sk-toggleable__content pre {margin: 0.2em;color: black;border-radius: 0.25em;background-color: #f0f8ff;}#sk-container-id-3 input.sk-toggleable__control:checked~div.sk-toggleable__content {max-height: 200px;max-width: 100%;overflow: auto;}#sk-container-id-3 input.sk-toggleable__control:checked~label.sk-toggleable__label-arrow:before {content: \"▾\";}#sk-container-id-3 div.sk-estimator input.sk-toggleable__control:checked~label.sk-toggleable__label {background-color: #d4ebff;}#sk-container-id-3 div.sk-label input.sk-toggleable__control:checked~label.sk-toggleable__label {background-color: #d4ebff;}#sk-container-id-3 input.sk-hidden--visually {border: 0;clip: rect(1px 1px 1px 1px);clip: rect(1px, 1px, 1px, 1px);height: 1px;margin: -1px;overflow: hidden;padding: 0;position: absolute;width: 1px;}#sk-container-id-3 div.sk-estimator {font-family: monospace;background-color: #f0f8ff;border: 1px dotted black;border-radius: 0.25em;box-sizing: border-box;margin-bottom: 0.5em;}#sk-container-id-3 div.sk-estimator:hover {background-color: #d4ebff;}#sk-container-id-3 div.sk-parallel-item::after {content: \"\";width: 100%;border-bottom: 1px solid gray;flex-grow: 1;}#sk-container-id-3 div.sk-label:hover label.sk-toggleable__label {background-color: #d4ebff;}#sk-container-id-3 div.sk-serial::before {content: \"\";position: absolute;border-left: 1px solid gray;box-sizing: border-box;top: 0;bottom: 0;left: 50%;z-index: 0;}#sk-container-id-3 div.sk-serial {display: flex;flex-direction: column;align-items: center;background-color: white;padding-right: 0.2em;padding-left: 0.2em;position: relative;}#sk-container-id-3 div.sk-item {position: relative;z-index: 1;}#sk-container-id-3 div.sk-parallel {display: flex;align-items: stretch;justify-content: center;background-color: white;position: relative;}#sk-container-id-3 div.sk-item::before, #sk-container-id-3 div.sk-parallel-item::before {content: \"\";position: absolute;border-left: 1px solid gray;box-sizing: border-box;top: 0;bottom: 0;left: 50%;z-index: -1;}#sk-container-id-3 div.sk-parallel-item {display: flex;flex-direction: column;z-index: 1;position: relative;background-color: white;}#sk-container-id-3 div.sk-parallel-item:first-child::after {align-self: flex-end;width: 50%;}#sk-container-id-3 div.sk-parallel-item:last-child::after {align-self: flex-start;width: 50%;}#sk-container-id-3 div.sk-parallel-item:only-child::after {width: 0;}#sk-container-id-3 div.sk-dashed-wrapped {border: 1px dashed gray;margin: 0 0.4em 0.5em 0.4em;box-sizing: border-box;padding-bottom: 0.4em;background-color: white;}#sk-container-id-3 div.sk-label label {font-family: monospace;font-weight: bold;display: inline-block;line-height: 1.2em;}#sk-container-id-3 div.sk-label-container {text-align: center;}#sk-container-id-3 div.sk-container {/* jupyter's `normalize.less` sets `[hidden] { display: none; }` but bootstrap.min.css set `[hidden] { display: none !important; }` so we also need the `!important` here to be able to override the default hidden behavior on the sphinx rendered scikit-learn.org. See: https://github.com/scikit-learn/scikit-learn/issues/21755 */display: inline-block !important;position: relative;}#sk-container-id-3 div.sk-text-repr-fallback {display: none;}</style><div id=\"sk-container-id-3\" class=\"sk-top-container\"><div class=\"sk-text-repr-fallback\"><pre>KMeans(n_clusters=3, n_init=10, random_state=42)</pre><b>In a Jupyter environment, please rerun this cell to show the HTML representation or trust the notebook. <br />On GitHub, the HTML representation is unable to render, please try loading this page with nbviewer.org.</b></div><div class=\"sk-container\" hidden><div class=\"sk-item\"><div class=\"sk-estimator sk-toggleable\"><input class=\"sk-toggleable__control sk-hidden--visually\" id=\"sk-estimator-id-3\" type=\"checkbox\" checked><label for=\"sk-estimator-id-3\" class=\"sk-toggleable__label sk-toggleable__label-arrow\">KMeans</label><div class=\"sk-toggleable__content\"><pre>KMeans(n_clusters=3, n_init=10, random_state=42)</pre></div></div></div></div></div>"
      ],
      "text/plain": [
       "KMeans(n_clusters=3, n_init=10, random_state=42)"
      ]
     },
     "execution_count": 15,
     "metadata": {},
     "output_type": "execute_result"
    }
   ],
   "source": [
    "# Apply K-Means algorithm\n",
    "kmeans = KMeans(n_clusters=3, n_init=10, random_state = 42)\n",
    "kmeans.fit(X)"
   ]
  },
  {
   "cell_type": "code",
   "execution_count": 16,
   "id": "7d36ce41-d192-4378-ba1f-545a16ee794b",
   "metadata": {},
   "outputs": [
    {
     "data": {
      "text/html": [
       "<div>\n",
       "<style scoped>\n",
       "    .dataframe tbody tr th:only-of-type {\n",
       "        vertical-align: middle;\n",
       "    }\n",
       "\n",
       "    .dataframe tbody tr th {\n",
       "        vertical-align: top;\n",
       "    }\n",
       "\n",
       "    .dataframe thead th {\n",
       "        text-align: right;\n",
       "    }\n",
       "</style>\n",
       "<table border=\"1\" class=\"dataframe\">\n",
       "  <thead>\n",
       "    <tr style=\"text-align: right;\">\n",
       "      <th></th>\n",
       "      <th>x1</th>\n",
       "      <th>x2</th>\n",
       "      <th>cluster</th>\n",
       "    </tr>\n",
       "  </thead>\n",
       "  <tbody>\n",
       "    <tr>\n",
       "      <th>0</th>\n",
       "      <td>7.793419</td>\n",
       "      <td>-7.149916</td>\n",
       "      <td>1</td>\n",
       "    </tr>\n",
       "    <tr>\n",
       "      <th>1</th>\n",
       "      <td>8.783409</td>\n",
       "      <td>-9.979164</td>\n",
       "      <td>1</td>\n",
       "    </tr>\n",
       "    <tr>\n",
       "      <th>2</th>\n",
       "      <td>7.467731</td>\n",
       "      <td>1.424818</td>\n",
       "      <td>0</td>\n",
       "    </tr>\n",
       "    <tr>\n",
       "      <th>3</th>\n",
       "      <td>9.204612</td>\n",
       "      <td>-5.804796</td>\n",
       "      <td>2</td>\n",
       "    </tr>\n",
       "    <tr>\n",
       "      <th>4</th>\n",
       "      <td>10.242530</td>\n",
       "      <td>-3.605225</td>\n",
       "      <td>2</td>\n",
       "    </tr>\n",
       "  </tbody>\n",
       "</table>\n",
       "</div>"
      ],
      "text/plain": [
       "          x1        x2  cluster\n",
       "0   7.793419 -7.149916        1\n",
       "1   8.783409 -9.979164        1\n",
       "2   7.467731  1.424818        0\n",
       "3   9.204612 -5.804796        2\n",
       "4  10.242530 -3.605225        2"
      ]
     },
     "execution_count": 16,
     "metadata": {},
     "output_type": "execute_result"
    }
   ],
   "source": [
    "# Making a dataframe copy of X for saving clusters \n",
    "df = X.copy()\n",
    "df['cluster'] = kmeans.predict(X)\n",
    "df.head()"
   ]
  },
  {
   "cell_type": "code",
   "execution_count": 17,
   "id": "95176d22-35bf-46b9-a039-260db4d262e3",
   "metadata": {},
   "outputs": [
    {
     "data": {
      "image/png": "[encoded data removed]",
      "text/plain": [
       "<Figure size 640x480 with 1 Axes>"
      ]
     },
     "metadata": {},
     "output_type": "display_data"
    }
   ],
   "source": [
    "# Plot the data points and identified clusters\n",
    "fig, ax = plt.subplots()\n",
    "ax.scatter(df[\"x1\"], df[\"x2\"], c=df[\"cluster\"], ec=\"black\", lw=0.5, cmap=\"rainbow\")\n",
    "ax.set(xlabel=\"x1\", ylabel=\"x2\", title=\"Identified Clusters\");"
   ]
  },
  {
   "cell_type": "code",
   "execution_count": 18,
   "id": "7d74c175-989a-4fa8-a24a-c75c1c174c77",
   "metadata": {},
   "outputs": [
    {
     "data": {
      "text/html": [
       "<div>\n",
       "<style scoped>\n",
       "    .dataframe tbody tr th:only-of-type {\n",
       "        vertical-align: middle;\n",
       "    }\n",
       "\n",
       "    .dataframe tbody tr th {\n",
       "        vertical-align: top;\n",
       "    }\n",
       "\n",
       "    .dataframe thead th {\n",
       "        text-align: right;\n",
       "    }\n",
       "</style>\n",
       "<table border=\"1\" class=\"dataframe\">\n",
       "  <thead>\n",
       "    <tr style=\"text-align: right;\">\n",
       "      <th></th>\n",
       "      <th>x1</th>\n",
       "      <th>x2</th>\n",
       "    </tr>\n",
       "  </thead>\n",
       "  <tbody>\n",
       "    <tr>\n",
       "      <th>0</th>\n",
       "      <td>5.218327</td>\n",
       "      <td>0.434833</td>\n",
       "    </tr>\n",
       "    <tr>\n",
       "      <th>1</th>\n",
       "      <td>7.809865</td>\n",
       "      <td>-8.512772</td>\n",
       "    </tr>\n",
       "    <tr>\n",
       "      <th>2</th>\n",
       "      <td>9.681187</td>\n",
       "      <td>-5.131638</td>\n",
       "    </tr>\n",
       "  </tbody>\n",
       "</table>\n",
       "</div>"
      ],
      "text/plain": [
       "         x1        x2\n",
       "0  5.218327  0.434833\n",
       "1  7.809865 -8.512772\n",
       "2  9.681187 -5.131638"
      ]
     },
     "execution_count": 18,
     "metadata": {},
     "output_type": "execute_result"
    }
   ],
   "source": [
    "# Saving the cluster centers as a dataframe for visibility\n",
    "cluster_centers = pd.DataFrame(kmeans.cluster_centers_, columns=X.columns)\n",
    "cluster_centers"
   ]
  },
  {
   "cell_type": "code",
   "execution_count": 19,
   "id": "56344790-6e10-4e07-8686-fd2f8db5e74a",
   "metadata": {},
   "outputs": [
    {
     "data": {
      "image/png": "[encoded data removed]",
      "text/plain": [
       "<Figure size 600x600 with 1 Axes>"
      ]
     },
     "metadata": {},
     "output_type": "display_data"
    }
   ],
   "source": [
    "# Plot the data points and identified clusters\n",
    "fig, ax = plt.subplots(figsize=(6, 6))\n",
    "ax.scatter(df[\"x1\"], df[\"x2\"], c=df[\"cluster\"], ec=\"black\", lw=0.5, cmap=\"rainbow\")\n",
    "ax.set(xlabel=\"x1\", ylabel=\"x2\", title=\"Identified Clusters\")\n",
    "# Plot the cluster centers\n",
    "centers = ax.scatter(\n",
    "    cluster_centers[\"x1\"],\n",
    "    cluster_centers[\"x2\"],\n",
    "    color=\"skyblue\",\n",
    "    ec=\"black\",\n",
    "    s=200,\n",
    "    marker=\"X\",\n",
    ");"
   ]
  },
  {
   "cell_type": "markdown",
   "id": "4dc87cbe-32d8-44cc-9f0a-c109d8d1e7fb",
   "metadata": {},
   "source": [
    "> Scipy"
   ]
  },
  {
   "cell_type": "code",
   "execution_count": 20,
   "id": "81d9b4be-11f4-4c08-b146-fa66d55786cb",
   "metadata": {},
   "outputs": [],
   "source": [
    "# Use scipy.spatial.distance.cdist to create a matrix of distances between each data point and each cluster center\n",
    "from scipy.spatial.distance import cdist\n",
    "# Calculate distance to each cluster center\n",
    "distances = cdist(X, kmeans.cluster_centers_, 'euclidean')"
   ]
  },
  {
   "cell_type": "code",
   "execution_count": 21,
   "id": "e51a8e2a-c4dd-491b-af70-f4c985537707",
   "metadata": {},
   "outputs": [
    {
     "data": {
      "text/plain": [
       "(300, 3)"
      ]
     },
     "execution_count": 21,
     "metadata": {},
     "output_type": "execute_result"
    }
   ],
   "source": [
    "# Distances shape is (# rows, # clusters)\n",
    "distances.shape"
   ]
  },
  {
   "cell_type": "code",
   "execution_count": 22,
   "id": "19281ff8-7fbd-4828-8fba-789635a5d322",
   "metadata": {},
   "outputs": [
    {
     "data": {
      "text/plain": [
       "(300, 2)"
      ]
     },
     "execution_count": 22,
     "metadata": {},
     "output_type": "execute_result"
    }
   ],
   "source": [
    "# Compare to X (#rows, # features)\n",
    "X.shape"
   ]
  },
  {
   "cell_type": "code",
   "execution_count": 23,
   "id": "f030439a-da38-4f5d-afaf-0ccb113c084f",
   "metadata": {},
   "outputs": [
    {
     "data": {
      "text/html": [
       "<div>\n",
       "<style scoped>\n",
       "    .dataframe tbody tr th:only-of-type {\n",
       "        vertical-align: middle;\n",
       "    }\n",
       "\n",
       "    .dataframe tbody tr th {\n",
       "        vertical-align: top;\n",
       "    }\n",
       "\n",
       "    .dataframe thead th {\n",
       "        text-align: right;\n",
       "    }\n",
       "</style>\n",
       "<table border=\"1\" class=\"dataframe\">\n",
       "  <thead>\n",
       "    <tr style=\"text-align: right;\">\n",
       "      <th></th>\n",
       "      <th>Distance (Cluster 0)</th>\n",
       "      <th>Distance (Cluster 1)</th>\n",
       "      <th>Distance (Cluster 2)</th>\n",
       "    </tr>\n",
       "  </thead>\n",
       "  <tbody>\n",
       "    <tr>\n",
       "      <th>0</th>\n",
       "      <td>8.009963</td>\n",
       "      <td>1.362955</td>\n",
       "      <td>2.763533</td>\n",
       "    </tr>\n",
       "    <tr>\n",
       "      <th>1</th>\n",
       "      <td>11.007322</td>\n",
       "      <td>1.760140</td>\n",
       "      <td>4.929960</td>\n",
       "    </tr>\n",
       "    <tr>\n",
       "      <th>2</th>\n",
       "      <td>2.457618</td>\n",
       "      <td>9.943477</td>\n",
       "      <td>6.920007</td>\n",
       "    </tr>\n",
       "  </tbody>\n",
       "</table>\n",
       "</div>"
      ],
      "text/plain": [
       "   Distance (Cluster 0)  Distance (Cluster 1)  Distance (Cluster 2)\n",
       "0              8.009963              1.362955              2.763533\n",
       "1             11.007322              1.760140              4.929960\n",
       "2              2.457618              9.943477              6.920007"
      ]
     },
     "execution_count": 23,
     "metadata": {},
     "output_type": "execute_result"
    }
   ],
   "source": [
    "# Saving distances as a dataframe for convenience\n",
    "cluter_cols = [f\"Distance (Cluster {c})\" for  c in range(len(kmeans.cluster_centers_))]\n",
    "distance_df = pd.DataFrame(distances, columns = cluter_cols)\n",
    "distance_df.head(3)"
   ]
  },
  {
   "cell_type": "code",
   "execution_count": 24,
   "id": "cf17941c-4236-4af5-a206-d16302d3044e",
   "metadata": {},
   "outputs": [
    {
     "data": {
      "text/plain": [
       "array([1.36295536, 1.76013984, 2.45761801, 0.82478221, 1.62635919])"
      ]
     },
     "execution_count": 24,
     "metadata": {},
     "output_type": "execute_result"
    }
   ],
   "source": [
    "# Get the minimum distance to any cluster for each point\n",
    "min_distances = np.min(distances, axis=1)\n",
    "# Display first 5 values\n",
    "min_distances[:5]"
   ]
  },
  {
   "cell_type": "code",
   "execution_count": 25,
   "id": "a9f2278a-8b85-4d61-9313-679f76f376cd",
   "metadata": {},
   "outputs": [
    {
     "data": {
      "image/png": "[encoded data removed]",
      "text/plain": [
       "<Figure size 640x480 with 1 Axes>"
      ]
     },
     "metadata": {},
     "output_type": "display_data"
    }
   ],
   "source": [
    "# distance from closet centroid\n",
    "ax = sns.histplot(min_distances)"
   ]
  },
  {
   "cell_type": "markdown",
   "id": "90f9ac5b-8709-4e2e-a4ec-a293ec053d8a",
   "metadata": {},
   "source": [
    "> Threshold list"
   ]
  },
  {
   "cell_type": "code",
   "execution_count": 26,
   "id": "8b1b86c6-87f1-45a5-9194-687a339285c2",
   "metadata": {},
   "outputs": [
    {
     "data": {
      "text/plain": [
       "2.8721072522826137"
      ]
     },
     "execution_count": 26,
     "metadata": {},
     "output_type": "execute_result"
    }
   ],
   "source": [
    "# Define a list of the indices of the anomalous data using the threshold given by the stakeholder (99.6% valid).\n",
    "# Set a threshold based on a percentile\n",
    "threshold = np.percentile(min_distances, 99.6)\n",
    "threshold"
   ]
  },
  {
   "cell_type": "code",
   "execution_count": 27,
   "id": "96784066-d62c-40d7-9a17-f0cc8417a086",
   "metadata": {},
   "outputs": [
    {
     "data": {
      "image/png": "[encoded data removed]",
      "text/plain": [
       "<Figure size 640x480 with 1 Axes>"
      ]
     },
     "metadata": {},
     "output_type": "display_data"
    }
   ],
   "source": [
    "# Visualize the distribution of distances and the anomaly threshold.\n",
    "ax = sns.histplot(min_distances)\n",
    "ax.axvline(threshold, color='red', ls=':', label='Anomaly Threshold (99.6%)')\n",
    "ax.axvspan(threshold, ax.get_xlim()[1], color='lightcoral',zorder=0, label='Anomalies')\n",
    "ax.legend(bbox_to_anchor=[1,1]);"
   ]
  },
  {
   "cell_type": "code",
   "execution_count": 28,
   "id": "e2285aad-a2a1-4431-91d9-2a921f5675e3",
   "metadata": {},
   "outputs": [
    {
     "data": {
      "text/plain": [
       "2"
      ]
     },
     "execution_count": 28,
     "metadata": {},
     "output_type": "execute_result"
    }
   ],
   "source": [
    "# Identify anomalies where the distance to closest cluster center is above the threshold\n",
    "filter_anomalies = min_distances > threshold\n",
    "# how many were found?\n",
    "filter_anomalies.sum()"
   ]
  },
  {
   "cell_type": "code",
   "execution_count": 29,
   "id": "d1d6d37d-8207-4e80-b28e-be5710973721",
   "metadata": {},
   "outputs": [
    {
     "data": {
      "text/plain": [
       "Int64Index([105, 276], dtype='int64')"
      ]
     },
     "execution_count": 29,
     "metadata": {},
     "output_type": "execute_result"
    }
   ],
   "source": [
    "# Getting the row indices of the anomalies\n",
    "idx_anomalies = X[filter_anomalies].index\n",
    "idx_anomalies"
   ]
  },
  {
   "cell_type": "code",
   "execution_count": 40,
   "id": "b27dd77d-61b6-4585-bd77-1b0e838e3d6c",
   "metadata": {},
   "outputs": [
    {
     "data": {
      "text/html": [
       "<div>\n",
       "<style scoped>\n",
       "    .dataframe tbody tr th:only-of-type {\n",
       "        vertical-align: middle;\n",
       "    }\n",
       "\n",
       "    .dataframe tbody tr th {\n",
       "        vertical-align: top;\n",
       "    }\n",
       "\n",
       "    .dataframe thead th {\n",
       "        text-align: right;\n",
       "    }\n",
       "</style>\n",
       "<table border=\"1\" class=\"dataframe\">\n",
       "  <thead>\n",
       "    <tr style=\"text-align: right;\">\n",
       "      <th></th>\n",
       "      <th>x1</th>\n",
       "      <th>x2</th>\n",
       "    </tr>\n",
       "  </thead>\n",
       "  <tbody>\n",
       "    <tr>\n",
       "      <th>105</th>\n",
       "      <td>10.690949</td>\n",
       "      <td>-8.563954</td>\n",
       "    </tr>\n",
       "    <tr>\n",
       "      <th>276</th>\n",
       "      <td>7.592333</td>\n",
       "      <td>2.387104</td>\n",
       "    </tr>\n",
       "  </tbody>\n",
       "</table>\n",
       "</div>"
      ],
      "text/plain": [
       "            x1        x2\n",
       "105  10.690949 -8.563954\n",
       "276   7.592333  2.387104"
      ]
     },
     "execution_count": 40,
     "metadata": {},
     "output_type": "execute_result"
    }
   ],
   "source": [
    "# Slicing the anomalies from X (for demonstration)\n",
    "X.iloc[idx_anomalies]"
   ]
  },
  {
   "cell_type": "code",
   "execution_count": 41,
   "id": "a2e61f0b-0b35-41aa-9756-743870ab3114",
   "metadata": {},
   "outputs": [
    {
     "data": {
      "image/png": "[encoded data removed]",
      "text/plain": [
       "<Figure size 600x600 with 1 Axes>"
      ]
     },
     "metadata": {},
     "output_type": "display_data"
    }
   ],
   "source": [
    "# Plot the data points and identified clusters\n",
    "fig, ax = plt.subplots(figsize=(6, 6))\n",
    "ax.scatter(\n",
    "    df[\"x1\"], df[\"x2\"], c=df[\"cluster\"], ec=\"black\", lw=0.5, cmap=\"rainbow\", alpha=0.5\n",
    ")\n",
    "ax.set(xlabel=\"x1\", ylabel=\"x2\", title=\"Identified Clusters\")\n",
    "## Plotting the anomalies for visibility.\n",
    "X.iloc[idx_anomalies].plot(\n",
    "    x=\"x1\", y=\"x2\", kind=\"scatter\", color=\"magenta\", label=\"Outliers\", ax=ax, marker='P',s=100,\n",
    ");"
   ]
  },
  {
   "cell_type": "markdown",
   "id": "91b74b77-ba7d-4faa-91bb-93b9cc6b5483",
   "metadata": {},
   "source": [
    "### Note that you cannot visualize your clusters since this dataset has 29 features. \n",
    "`(To visualize, you could apply PCA to reduce the dimensionality to 2 features, but visualization is not required.)` "
   ]
  },
  {
   "cell_type": "markdown",
   "id": "0c0a9509-6873-45ac-9f65-8dbe4c9735cb",
   "metadata": {},
   "source": [
    "## <u>2. Isolation Forest:\n",
    "* `Note:` If you added any columns to the original dataset in the previous step, be sure to exclude them before fitting your Isolation Forest.\n",
    "* Instantiate and fit an Isolation Forest with the correct contamination value based on the threshold given by the stakeholder `(Be Careful: 0.4% = 0.004)`. Please use a randome state of 42 for your model\n",
    "* Define a list of the indices of anomalous data. `Rememeber` that anomalies are marked as `-1`, and normal data is marked `1`."
   ]
  },
  {
   "cell_type": "code",
   "execution_count": 31,
   "id": "e68b1bbf-06b0-4fe8-8f3d-bebbaacb2575",
   "metadata": {},
   "outputs": [
    {
     "data": {
      "text/html": [
       "<div>\n",
       "<style scoped>\n",
       "    .dataframe tbody tr th:only-of-type {\n",
       "        vertical-align: middle;\n",
       "    }\n",
       "\n",
       "    .dataframe tbody tr th {\n",
       "        vertical-align: top;\n",
       "    }\n",
       "\n",
       "    .dataframe thead th {\n",
       "        text-align: right;\n",
       "    }\n",
       "</style>\n",
       "<table border=\"1\" class=\"dataframe\">\n",
       "  <thead>\n",
       "    <tr style=\"text-align: right;\">\n",
       "      <th></th>\n",
       "      <th>x1</th>\n",
       "      <th>x2</th>\n",
       "    </tr>\n",
       "  </thead>\n",
       "  <tbody>\n",
       "    <tr>\n",
       "      <th>0</th>\n",
       "      <td>7.793419</td>\n",
       "      <td>-7.149916</td>\n",
       "    </tr>\n",
       "    <tr>\n",
       "      <th>1</th>\n",
       "      <td>8.783409</td>\n",
       "      <td>-9.979164</td>\n",
       "    </tr>\n",
       "    <tr>\n",
       "      <th>2</th>\n",
       "      <td>7.467731</td>\n",
       "      <td>1.424818</td>\n",
       "    </tr>\n",
       "    <tr>\n",
       "      <th>3</th>\n",
       "      <td>9.204612</td>\n",
       "      <td>-5.804796</td>\n",
       "    </tr>\n",
       "    <tr>\n",
       "      <th>4</th>\n",
       "      <td>10.242530</td>\n",
       "      <td>-3.605225</td>\n",
       "    </tr>\n",
       "  </tbody>\n",
       "</table>\n",
       "</div>"
      ],
      "text/plain": [
       "          x1        x2\n",
       "0   7.793419 -7.149916\n",
       "1   8.783409 -9.979164\n",
       "2   7.467731  1.424818\n",
       "3   9.204612 -5.804796\n",
       "4  10.242530 -3.605225"
      ]
     },
     "execution_count": 31,
     "metadata": {},
     "output_type": "execute_result"
    }
   ],
   "source": [
    "# Define the original features\n",
    "X = df[['x1','x2']]\n",
    "X.head()"
   ]
  },
  {
   "cell_type": "code",
   "execution_count": 32,
   "id": "86432e01-262e-41d3-942d-146e5b58daa5",
   "metadata": {},
   "outputs": [
    {
     "data": {
      "text/html": [
       "<style>#sk-container-id-4 {color: black;background-color: white;}#sk-container-id-4 pre{padding: 0;}#sk-container-id-4 div.sk-toggleable {background-color: white;}#sk-container-id-4 label.sk-toggleable__label {cursor: pointer;display: block;width: 100%;margin-bottom: 0;padding: 0.3em;box-sizing: border-box;text-align: center;}#sk-container-id-4 label.sk-toggleable__label-arrow:before {content: \"▸\";float: left;margin-right: 0.25em;color: #696969;}#sk-container-id-4 label.sk-toggleable__label-arrow:hover:before {color: black;}#sk-container-id-4 div.sk-estimator:hover label.sk-toggleable__label-arrow:before {color: black;}#sk-container-id-4 div.sk-toggleable__content {max-height: 0;max-width: 0;overflow: hidden;text-align: left;background-color: #f0f8ff;}#sk-container-id-4 div.sk-toggleable__content pre {margin: 0.2em;color: black;border-radius: 0.25em;background-color: #f0f8ff;}#sk-container-id-4 input.sk-toggleable__control:checked~div.sk-toggleable__content {max-height: 200px;max-width: 100%;overflow: auto;}#sk-container-id-4 input.sk-toggleable__control:checked~label.sk-toggleable__label-arrow:before {content: \"▾\";}#sk-container-id-4 div.sk-estimator input.sk-toggleable__control:checked~label.sk-toggleable__label {background-color: #d4ebff;}#sk-container-id-4 div.sk-label input.sk-toggleable__control:checked~label.sk-toggleable__label {background-color: #d4ebff;}#sk-container-id-4 input.sk-hidden--visually {border: 0;clip: rect(1px 1px 1px 1px);clip: rect(1px, 1px, 1px, 1px);height: 1px;margin: -1px;overflow: hidden;padding: 0;position: absolute;width: 1px;}#sk-container-id-4 div.sk-estimator {font-family: monospace;background-color: #f0f8ff;border: 1px dotted black;border-radius: 0.25em;box-sizing: border-box;margin-bottom: 0.5em;}#sk-container-id-4 div.sk-estimator:hover {background-color: #d4ebff;}#sk-container-id-4 div.sk-parallel-item::after {content: \"\";width: 100%;border-bottom: 1px solid gray;flex-grow: 1;}#sk-container-id-4 div.sk-label:hover label.sk-toggleable__label {background-color: #d4ebff;}#sk-container-id-4 div.sk-serial::before {content: \"\";position: absolute;border-left: 1px solid gray;box-sizing: border-box;top: 0;bottom: 0;left: 50%;z-index: 0;}#sk-container-id-4 div.sk-serial {display: flex;flex-direction: column;align-items: center;background-color: white;padding-right: 0.2em;padding-left: 0.2em;position: relative;}#sk-container-id-4 div.sk-item {position: relative;z-index: 1;}#sk-container-id-4 div.sk-parallel {display: flex;align-items: stretch;justify-content: center;background-color: white;position: relative;}#sk-container-id-4 div.sk-item::before, #sk-container-id-4 div.sk-parallel-item::before {content: \"\";position: absolute;border-left: 1px solid gray;box-sizing: border-box;top: 0;bottom: 0;left: 50%;z-index: -1;}#sk-container-id-4 div.sk-parallel-item {display: flex;flex-direction: column;z-index: 1;position: relative;background-color: white;}#sk-container-id-4 div.sk-parallel-item:first-child::after {align-self: flex-end;width: 50%;}#sk-container-id-4 div.sk-parallel-item:last-child::after {align-self: flex-start;width: 50%;}#sk-container-id-4 div.sk-parallel-item:only-child::after {width: 0;}#sk-container-id-4 div.sk-dashed-wrapped {border: 1px dashed gray;margin: 0 0.4em 0.5em 0.4em;box-sizing: border-box;padding-bottom: 0.4em;background-color: white;}#sk-container-id-4 div.sk-label label {font-family: monospace;font-weight: bold;display: inline-block;line-height: 1.2em;}#sk-container-id-4 div.sk-label-container {text-align: center;}#sk-container-id-4 div.sk-container {/* jupyter's `normalize.less` sets `[hidden] { display: none; }` but bootstrap.min.css set `[hidden] { display: none !important; }` so we also need the `!important` here to be able to override the default hidden behavior on the sphinx rendered scikit-learn.org. See: https://github.com/scikit-learn/scikit-learn/issues/21755 */display: inline-block !important;position: relative;}#sk-container-id-4 div.sk-text-repr-fallback {display: none;}</style><div id=\"sk-container-id-4\" class=\"sk-top-container\"><div class=\"sk-text-repr-fallback\"><pre>IsolationForest(contamination=0.05, random_state=42)</pre><b>In a Jupyter environment, please rerun this cell to show the HTML representation or trust the notebook. <br />On GitHub, the HTML representation is unable to render, please try loading this page with nbviewer.org.</b></div><div class=\"sk-container\" hidden><div class=\"sk-item\"><div class=\"sk-estimator sk-toggleable\"><input class=\"sk-toggleable__control sk-hidden--visually\" id=\"sk-estimator-id-4\" type=\"checkbox\" checked><label for=\"sk-estimator-id-4\" class=\"sk-toggleable__label sk-toggleable__label-arrow\">IsolationForest</label><div class=\"sk-toggleable__content\"><pre>IsolationForest(contamination=0.05, random_state=42)</pre></div></div></div></div></div>"
      ],
      "text/plain": [
       "IsolationForest(contamination=0.05, random_state=42)"
      ]
     },
     "execution_count": 32,
     "metadata": {},
     "output_type": "execute_result"
    }
   ],
   "source": [
    "# Instantiate the model with a contaimination of 0.004 (we will identify .4% as anamolous)\n",
    "iso_004 = IsolationForest(contamination=0.05, random_state = 42)\n",
    "# fit the model using .values to avoid a warning\n",
    "iso_004.fit(X.values)"
   ]
  },
  {
   "cell_type": "code",
   "execution_count": 33,
   "id": "8d5ea07d-c272-426a-a6ec-37ee04f41287",
   "metadata": {},
   "outputs": [
    {
     "data": {
      "text/plain": [
       "array([ 1,  1,  1,  1,  1,  1,  1,  1,  1,  1,  1,  1,  1,  1,  1,  1,  1,\n",
       "        1,  1,  1,  1,  1,  1,  1,  1,  1,  1,  1,  1,  1,  1,  1,  1,  1,\n",
       "        1,  1,  1,  1,  1,  1,  1,  1,  1,  1,  1,  1,  1,  1,  1,  1,  1,\n",
       "        1,  1,  1,  1,  1,  1,  1,  1,  1,  1,  1,  1,  1,  1,  1,  1,  1,\n",
       "       -1,  1,  1,  1,  1,  1,  1,  1,  1,  1,  1,  1,  1,  1,  1,  1,  1,\n",
       "        1,  1, -1,  1,  1,  1,  1,  1,  1, -1,  1,  1, -1,  1,  1])"
      ]
     },
     "execution_count": 33,
     "metadata": {},
     "output_type": "execute_result"
    }
   ],
   "source": [
    "# Obtain results from the model\n",
    "predictions = iso_004.predict(X.values)\n",
    "predictions[:100]"
   ]
  },
  {
   "cell_type": "code",
   "execution_count": 34,
   "id": "0262726f-d702-43eb-87df-2b425e9a486e",
   "metadata": {},
   "outputs": [
    {
     "data": {
      "text/plain": [
       "array([0, 0, 0, 0, 0, 0, 0, 0, 0, 0, 0, 0, 0, 0, 0, 0, 0, 0, 0, 0, 0, 0,\n",
       "       0, 0, 0, 0, 0, 0, 0, 0, 0, 0, 0, 0, 0, 0, 0, 0, 0, 0, 0, 0, 0, 0,\n",
       "       0, 0, 0, 0, 0, 0, 0, 0, 0, 0, 0, 0, 0, 0, 0, 0, 0, 0, 0, 0, 0, 0,\n",
       "       0, 0, 1, 0, 0, 0, 0, 0, 0, 0, 0, 0, 0, 0, 0, 0, 0, 0, 0, 0, 0, 1,\n",
       "       0, 0, 0, 0, 0, 0, 1, 0, 0, 1, 0, 0])"
      ]
     },
     "execution_count": 34,
     "metadata": {},
     "output_type": "execute_result"
    }
   ],
   "source": [
    "# Change the labels to match our columns from the kmeans dataframe\n",
    "# Not anamolies\n",
    "predictions[predictions ==1] = 0\n",
    "# Anomalies\n",
    "predictions[predictions ==-1] = 1\n",
    "# Preview new labels\n",
    "predictions[:100]"
   ]
  },
  {
   "cell_type": "code",
   "execution_count": 35,
   "id": "853b9333-f8fa-4046-ac78-7436df41c376",
   "metadata": {},
   "outputs": [
    {
     "data": {
      "text/html": [
       "<div>\n",
       "<style scoped>\n",
       "    .dataframe tbody tr th:only-of-type {\n",
       "        vertical-align: middle;\n",
       "    }\n",
       "\n",
       "    .dataframe tbody tr th {\n",
       "        vertical-align: top;\n",
       "    }\n",
       "\n",
       "    .dataframe thead th {\n",
       "        text-align: right;\n",
       "    }\n",
       "</style>\n",
       "<table border=\"1\" class=\"dataframe\">\n",
       "  <thead>\n",
       "    <tr style=\"text-align: right;\">\n",
       "      <th></th>\n",
       "      <th>x1</th>\n",
       "      <th>x2</th>\n",
       "      <th>cluster</th>\n",
       "      <th>anomaly-iso_004</th>\n",
       "    </tr>\n",
       "  </thead>\n",
       "  <tbody>\n",
       "    <tr>\n",
       "      <th>0</th>\n",
       "      <td>7.793419</td>\n",
       "      <td>-7.149916</td>\n",
       "      <td>1</td>\n",
       "      <td>0</td>\n",
       "    </tr>\n",
       "    <tr>\n",
       "      <th>1</th>\n",
       "      <td>8.783409</td>\n",
       "      <td>-9.979164</td>\n",
       "      <td>1</td>\n",
       "      <td>0</td>\n",
       "    </tr>\n",
       "    <tr>\n",
       "      <th>2</th>\n",
       "      <td>7.467731</td>\n",
       "      <td>1.424818</td>\n",
       "      <td>0</td>\n",
       "      <td>0</td>\n",
       "    </tr>\n",
       "    <tr>\n",
       "      <th>3</th>\n",
       "      <td>9.204612</td>\n",
       "      <td>-5.804796</td>\n",
       "      <td>2</td>\n",
       "      <td>0</td>\n",
       "    </tr>\n",
       "    <tr>\n",
       "      <th>4</th>\n",
       "      <td>10.242530</td>\n",
       "      <td>-3.605225</td>\n",
       "      <td>2</td>\n",
       "      <td>0</td>\n",
       "    </tr>\n",
       "  </tbody>\n",
       "</table>\n",
       "</div>"
      ],
      "text/plain": [
       "          x1        x2  cluster  anomaly-iso_004\n",
       "0   7.793419 -7.149916        1                0\n",
       "1   8.783409 -9.979164        1                0\n",
       "2   7.467731  1.424818        0                0\n",
       "3   9.204612 -5.804796        2                0\n",
       "4  10.242530 -3.605225        2                0"
      ]
     },
     "execution_count": 35,
     "metadata": {},
     "output_type": "execute_result"
    }
   ],
   "source": [
    "# Add isolation forest predictions to the dataframe\n",
    "df['anomaly-iso_004'] = predictions\n",
    "# Preview dataframe with new column\n",
    "df.head()"
   ]
  },
  {
   "cell_type": "code",
   "execution_count": 56,
   "id": "123d3af2-6a45-48ab-bf4d-5110c4a1694f",
   "metadata": {},
   "outputs": [
    {
     "name": "stdout",
     "output_type": "stream",
     "text": [
      "fitting KMeans with 2 clusters\n",
      "fitting KMeans with 3 clusters\n",
      "fitting KMeans with 4 clusters\n",
      "fitting KMeans with 5 clusters\n",
      "fitting KMeans with 6 clusters\n",
      "fitting KMeans with 7 clusters\n",
      "fitting KMeans with 8 clusters\n",
      "fitting KMeans with 9 clusters\n",
      "fitting KMeans with 10 clusters\n"
     ]
    }
   ],
   "source": [
    "# Create a range of k numbers of clusters\n",
    "ks = range(2,11)\n",
    "\n",
    "## Create lists to hold the inertia and silhouette scores\n",
    "inertias = []\n",
    "sils = []\n",
    "\n",
    "## Loop over k values to determine the best number of clusters for the model\n",
    "for k in ks:\n",
    "    ## create and fit a KMeans model\n",
    "    kmeans = KMeans(n_clusters=3, random_state=42, n_init=10).fit(X_scaled)\n",
    "    print(f'fitting KMeans with {k} clusters')\n",
    "    \n",
    "    ## Append the inertia and silhouette scores to the lists\n",
    "    inertias.append(kmeans.inertia_)\n",
    "    sils.append(silhouette_score(X_scaled, kmeans.labels_))"
   ]
  },
  {
   "cell_type": "code",
   "execution_count": 57,
   "id": "a61ea66d-bfe7-42a3-92bc-13c2092f8010",
   "metadata": {},
   "outputs": [],
   "source": [
    "n_clusters = 3\n",
    "kmeans = KMeans(n_clusters=n_clusters, random_state=42, n_init=10).fit(X_scaled)"
   ]
  },
  {
   "cell_type": "code",
   "execution_count": 58,
   "id": "e8bb181c-23fa-4fd2-acc1-1074dc41f4ae",
   "metadata": {},
   "outputs": [
    {
     "data": {
      "text/plain": [
       "array([[2.80468161, 4.39326354, 5.85721494],\n",
       "       [2.42642963, 3.68608746, 5.07508117],\n",
       "       [6.5426218 , 7.33737825, 8.65600243],\n",
       "       [4.74252086, 5.67396639, 6.85457651],\n",
       "       [3.24973107, 4.47873459, 6.10443916]])"
      ]
     },
     "execution_count": 58,
     "metadata": {},
     "output_type": "execute_result"
    }
   ],
   "source": [
    "# Find distances\n",
    "from scipy.spatial.distance import cdist\n",
    "cluster_centers = kmeans.cluster_centers_\n",
    "cluster_centers\n",
    "distances = cdist(X_scaled, cluster_centers, 'euclidean')\n",
    "distances[:5]"
   ]
  },
  {
   "cell_type": "code",
   "execution_count": 60,
   "id": "98dd5376-fe4d-4686-802e-13a349096cb8",
   "metadata": {},
   "outputs": [
    {
     "data": {
      "text/html": [
       "<div>\n",
       "<style scoped>\n",
       "    .dataframe tbody tr th:only-of-type {\n",
       "        vertical-align: middle;\n",
       "    }\n",
       "\n",
       "    .dataframe tbody tr th {\n",
       "        vertical-align: top;\n",
       "    }\n",
       "\n",
       "    .dataframe thead th {\n",
       "        text-align: right;\n",
       "    }\n",
       "</style>\n",
       "<table border=\"1\" class=\"dataframe\">\n",
       "  <thead>\n",
       "    <tr style=\"text-align: right;\">\n",
       "      <th></th>\n",
       "      <th>x1</th>\n",
       "      <th>x2</th>\n",
       "      <th>cluster</th>\n",
       "      <th>anomaly-iso_004</th>\n",
       "    </tr>\n",
       "  </thead>\n",
       "  <tbody>\n",
       "    <tr>\n",
       "      <th>105</th>\n",
       "      <td>10.690949</td>\n",
       "      <td>-8.563954</td>\n",
       "      <td>1</td>\n",
       "      <td>1</td>\n",
       "    </tr>\n",
       "    <tr>\n",
       "      <th>276</th>\n",
       "      <td>7.592333</td>\n",
       "      <td>2.387104</td>\n",
       "      <td>0</td>\n",
       "      <td>1</td>\n",
       "    </tr>\n",
       "  </tbody>\n",
       "</table>\n",
       "</div>"
      ],
      "text/plain": [
       "            x1        x2  cluster  anomaly-iso_004\n",
       "105  10.690949 -8.563954        1                1\n",
       "276   7.592333  2.387104        0                1"
      ]
     },
     "execution_count": 60,
     "metadata": {},
     "output_type": "execute_result"
    }
   ],
   "source": [
    "# Create a filter for which data points are outside the distance threshold\n",
    "kmeans_filter = min_distances > threshold\n",
    "kmeans_filter\n",
    "\n",
    "# Filter the original dataset to inspect the anomalous data\n",
    "kmeans_anomalies = df[kmeans_filter]\n",
    "kmeans_anomalies"
   ]
  },
  {
   "cell_type": "code",
   "execution_count": 61,
   "id": "d57536bd-9789-488e-84e8-36e900f3722a",
   "metadata": {},
   "outputs": [
    {
     "data": {
      "text/plain": [
       "array([ 1,  1,  1,  1,  1,  1,  1,  1,  1,  1,  1,  1,  1,  1,  1,  1,  1,\n",
       "        1,  1,  1,  1,  1,  1,  1,  1,  1,  1,  1,  1,  1,  1,  1,  1,  1,\n",
       "        1,  1,  1,  1,  1,  1,  1,  1,  1,  1,  1,  1,  1,  1,  1,  1,  1,\n",
       "        1,  1,  1,  1,  1,  1,  1,  1,  1,  1,  1,  1,  1,  1,  1,  1,  1,\n",
       "        1,  1,  1,  1,  1,  1,  1,  1,  1,  1,  1,  1,  1,  1,  1,  1,  1,\n",
       "        1,  1,  1,  1,  1,  1,  1,  1,  1,  1,  1,  1,  1,  1,  1,  1,  1,\n",
       "        1,  1,  1,  1,  1,  1,  1,  1,  1,  1,  1,  1,  1,  1,  1,  1,  1,\n",
       "        1,  1,  1,  1,  1,  1,  1,  1,  1,  1,  1,  1,  1,  1,  1,  1,  1,\n",
       "        1,  1,  1,  1,  1,  1,  1,  1,  1,  1,  1,  1,  1,  1,  1,  1,  1,\n",
       "        1,  1,  1,  1,  1,  1,  1,  1, -1,  1,  1,  1,  1,  1,  1,  1,  1,\n",
       "        1,  1,  1,  1,  1,  1,  1,  1,  1,  1,  1,  1,  1,  1,  1,  1,  1,\n",
       "        1,  1,  1,  1,  1,  1,  1,  1,  1,  1,  1,  1,  1,  1,  1,  1,  1,\n",
       "        1,  1,  1,  1,  1,  1,  1,  1,  1,  1,  1,  1,  1,  1,  1,  1,  1,\n",
       "        1,  1,  1,  1,  1,  1,  1,  1,  1,  1,  1,  1,  1,  1,  1,  1,  1,\n",
       "        1,  1,  1,  1,  1,  1,  1,  1,  1,  1,  1,  1,  1,  1,  1,  1,  1,\n",
       "        1,  1,  1,  1,  1,  1,  1,  1,  1,  1,  1,  1,  1,  1,  1,  1,  1,\n",
       "        1,  1,  1,  1,  1,  1,  1,  1,  1,  1,  1,  1,  1,  1,  1,  1,  1,\n",
       "        1,  1,  1,  1,  1,  1,  1,  1,  1,  1,  1])"
      ]
     },
     "execution_count": 61,
     "metadata": {},
     "output_type": "execute_result"
    }
   ],
   "source": [
    "# As a tree-based model, the data does not need to be scaled.  \n",
    "# Set contamination to .003\n",
    "iso = IsolationForest(contamination=.003, random_state=42).fit(df)\n",
    "\n",
    "\n",
    "## Make predictions\n",
    "predictions = iso.predict(df)\n",
    "predictions"
   ]
  },
  {
   "cell_type": "code",
   "execution_count": 62,
   "id": "3e9957ed-1212-4997-bb6a-fc6705c8cf47",
   "metadata": {},
   "outputs": [
    {
     "data": {
      "text/plain": [
       "array([False, False, False, False, False, False, False, False, False,\n",
       "       False, False, False, False, False, False, False, False, False,\n",
       "       False, False, False, False, False, False, False, False, False,\n",
       "       False, False, False, False, False, False, False, False, False,\n",
       "       False, False, False, False, False, False, False, False, False,\n",
       "       False, False, False, False, False, False, False, False, False,\n",
       "       False, False, False, False, False, False, False, False, False,\n",
       "       False, False, False, False, False, False, False, False, False,\n",
       "       False, False, False, False, False, False, False, False, False,\n",
       "       False, False, False, False, False, False, False, False, False,\n",
       "       False, False, False, False, False, False, False, False, False,\n",
       "       False, False, False, False, False, False, False, False, False,\n",
       "       False, False, False, False, False, False, False, False, False,\n",
       "       False, False, False, False, False, False, False, False, False,\n",
       "       False, False, False, False, False, False, False, False, False,\n",
       "       False, False, False, False, False, False, False, False, False,\n",
       "       False, False, False, False, False, False, False, False, False,\n",
       "       False, False, False, False, False, False, False, False,  True,\n",
       "       False, False, False, False, False, False, False, False, False,\n",
       "       False, False, False, False, False, False, False, False, False,\n",
       "       False, False, False, False, False, False, False, False, False,\n",
       "       False, False, False, False, False, False, False, False, False,\n",
       "       False, False, False, False, False, False, False, False, False,\n",
       "       False, False, False, False, False, False, False, False, False,\n",
       "       False, False, False, False, False, False, False, False, False,\n",
       "       False, False, False, False, False, False, False, False, False,\n",
       "       False, False, False, False, False, False, False, False, False,\n",
       "       False, False, False, False, False, False, False, False, False,\n",
       "       False, False, False, False, False, False, False, False, False,\n",
       "       False, False, False, False, False, False, False, False, False,\n",
       "       False, False, False, False, False, False, False, False, False,\n",
       "       False, False, False, False, False, False, False, False, False,\n",
       "       False, False, False, False, False, False, False, False, False,\n",
       "       False, False, False])"
      ]
     },
     "execution_count": 62,
     "metadata": {},
     "output_type": "execute_result"
    }
   ],
   "source": [
    "# Create a filter\n",
    "iso_filter = predictions == -1\n",
    "iso_filter"
   ]
  },
  {
   "cell_type": "code",
   "execution_count": 63,
   "id": "c1a52ee3-f62a-4396-963a-a59882fb4ae6",
   "metadata": {},
   "outputs": [
    {
     "data": {
      "text/html": [
       "<div>\n",
       "<style scoped>\n",
       "    .dataframe tbody tr th:only-of-type {\n",
       "        vertical-align: middle;\n",
       "    }\n",
       "\n",
       "    .dataframe tbody tr th {\n",
       "        vertical-align: top;\n",
       "    }\n",
       "\n",
       "    .dataframe thead th {\n",
       "        text-align: right;\n",
       "    }\n",
       "</style>\n",
       "<table border=\"1\" class=\"dataframe\">\n",
       "  <thead>\n",
       "    <tr style=\"text-align: right;\">\n",
       "      <th></th>\n",
       "      <th>x1</th>\n",
       "      <th>x2</th>\n",
       "      <th>cluster</th>\n",
       "      <th>anomaly-iso_004</th>\n",
       "    </tr>\n",
       "  </thead>\n",
       "  <tbody>\n",
       "    <tr>\n",
       "      <th>161</th>\n",
       "      <td>6.495709</td>\n",
       "      <td>2.963979</td>\n",
       "      <td>0</td>\n",
       "      <td>1</td>\n",
       "    </tr>\n",
       "  </tbody>\n",
       "</table>\n",
       "</div>"
      ],
      "text/plain": [
       "           x1        x2  cluster  anomaly-iso_004\n",
       "161  6.495709  2.963979        0                1"
      ]
     },
     "execution_count": 63,
     "metadata": {},
     "output_type": "execute_result"
    }
   ],
   "source": [
    "iso_anomalies = df[iso_filter]\n",
    "iso_anomalies"
   ]
  },
  {
   "cell_type": "code",
   "execution_count": 67,
   "id": "2eadee21-d1d0-439a-9109-0850bb634212",
   "metadata": {},
   "outputs": [],
   "source": [
    "# # Comparing number of anomalies found\n",
    "# kmeans_anomalies = df['kmeans_filter'].sum()\n",
    "# print(f'Kmeans (threshold = 99.6) identified {kmeans_anomalies} anomalies.')\n",
    "# isoforest_anomalies = df['anomaly-iso_004'].sum()\n",
    "# print(f'Isoforest (contaminatin = 0.004) identified {isoforest_anomalies} anomalies.')"
   ]
  },
  {
   "cell_type": "code",
   "execution_count": 38,
   "id": "c6798e47-6f7b-480b-84fe-ea927511fd2b",
   "metadata": {},
   "outputs": [
    {
     "data": {
      "image/png": "[encoded data removed]",
      "text/plain": [
       "<Figure size 800x800 with 1 Axes>"
      ]
     },
     "metadata": {},
     "output_type": "display_data"
    }
   ],
   "source": [
    "# Plot the original data points\n",
    "fig, ax = plt.subplots(figsize=(8, 8))\n",
    "ax.scatter(df['x1'], df['x2'], ec= 'black', alpha = 0.5)\n",
    "ax.set_title(\"Identified Anomalies\")  \n",
    "    \n",
    "# Plot the anomalies identified by the isolation forest\n",
    "df.loc[idx_anomalies].plot(\n",
    "    x=\"x1\", y=\"x2\", kind=\"scatter\", color=\"magenta\", label=\"Anomalies (Isolation Forest)\", \n",
    "    ax=ax, marker='P', s=50);"
   ]
  },
  {
   "cell_type": "code",
   "execution_count": 70,
   "id": "4ddf54a5-292e-49dd-bdd4-06c3637d16af",
   "metadata": {},
   "outputs": [],
   "source": [
    "# # Define anomalies identified by kmeans\n",
    "# kmeans_anomalies = df[df['kmeans_filter'] == 1]\n",
    "# # Define anomalies identified by isolation forest\n",
    "# iso_004_anomalies = df[df['anomaly-iso_004'] == 1]\n",
    "# # Define anomalies identified by both models\n",
    "# both_anomalies = df[(df['anomaly-iso_004'] == 1)& (df['kmeans_filter'] == 1)]\n",
    "# # Plot the data points and identified clusters\n",
    "# fig, ax= plt.subplots(figsize=(8, 8))\n",
    "# # Plot data\n",
    "# ax.scatter(df[\"x1\"], df[\"x2\"], ec = 'black', alpha=0.5)\n",
    "# ax.set_title(\"Comparing Models\")\n",
    "# # Annotate KMeans anomalies\n",
    "# kmeans_anomalies.plot(x=\"x1\", y=\"x2\", kind=\"scatter\", color=\"magenta\", label=\"Anomalies only KMeans Distance\", ax=ax, marker='P',s=50)\n",
    "# # Annotate Iso Forest anomalies\n",
    "# iso_004_anomalies.plot(x=\"x1\", y=\"x2\", kind=\"scatter\", color=\"blue\", label=\"Anomalies only Isolation Forest\", ax=ax, marker='P',s=50)\n",
    "# # Annotate Anomolies identified by both models\n",
    "# both_anomalies.plot(x=\"x1\", y=\"x2\", kind=\"scatter\", color=\"red\", label=\"Anomalies Models Agree on\", ax=ax, marker='P',s=50);"
   ]
  },
  {
   "cell_type": "code",
   "execution_count": null,
   "id": "d3097c24-db80-401e-bee5-65fab19c6e20",
   "metadata": {},
   "outputs": [],
   "source": []
  },
  {
   "cell_type": "markdown",
   "id": "7de8c837-b662-4217-ab46-5a7f9d6af6d9",
   "metadata": {},
   "source": [
    "## <u>3. Compare the list of anomalies from KMeans and Isolation Forest. \n",
    "* Once you have a list of indices from each model, you can use list comprehension to find the points in common. For example:"
   ]
  },
  {
   "cell_type": "code",
   "execution_count": 72,
   "id": "00e7e3df-7493-4d1d-b79c-e8888ff9df6b",
   "metadata": {},
   "outputs": [
    {
     "data": {
      "text/plain": [
       "['x1', 'x2', 'cluster', 'anomaly-iso_004']"
      ]
     },
     "execution_count": 72,
     "metadata": {},
     "output_type": "execute_result"
    }
   ],
   "source": [
    "# Make a list of anomolies identified in both methods\n",
    "both = [a for a in iso_anomalies if a in kmeans_anomalies]\n",
    "both"
   ]
  },
  {
   "cell_type": "markdown",
   "id": "bbb9304a-d983-4ef8-a270-162f939be457",
   "metadata": {},
   "source": [
    "## Answer the following:\n",
    "* ### a. How many anomalies did the 2 approaches agree on?"
   ]
  },
  {
   "cell_type": "markdown",
   "id": "6f0af914-01bb-491c-bb54-0915173e3f93",
   "metadata": {},
   "source": [
    "Both agreed on 2 anomalies according to the visualizations"
   ]
  },
  {
   "cell_type": "markdown",
   "id": "fcb0e0f5-7442-4826-aa91-50e38c90e384",
   "metadata": {},
   "source": [
    "* ### b. What percentage "
   ]
  },
  {
   "cell_type": "markdown",
   "id": "e14d99a6-ebb7-4658-b32f-968e5562e279",
   "metadata": {},
   "source": [
    "99.6%"
   ]
  }
 ],
 "metadata": {
  "kernelspec": {
   "display_name": "Python (dojo-env)",
   "language": "python",
   "name": "dojo-env"
  },
  "language_info": {
   "codemirror_mode": {
    "name": "ipython",
    "version": 3
   },
   "file_extension": ".py",
   "mimetype": "text/x-python",
   "name": "python",
   "nbconvert_exporter": "python",
   "pygments_lexer": "ipython3",
   "version": "3.10.10"
  },
  "widgets": {
   "application/vnd.jupyter.widget-state+json": {
    "state": {},
    "version_major": 2,
    "version_minor": 0
   }
  }
 },
 "nbformat": 4,
 "nbformat_minor": 5
}
